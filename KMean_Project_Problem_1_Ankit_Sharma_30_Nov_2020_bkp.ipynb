{
 "cells": [
  {
   "cell_type": "code",
   "execution_count": 363,
   "metadata": {},
   "outputs": [],
   "source": [
    "import numpy as np\n",
    "import pandas as pd\n",
    "import matplotlib.pyplot as plt\n",
    "import seaborn as sns\n",
    "\n",
    "import datetime as dt\n",
    "\n",
    "\n",
    "from sklearn.preprocessing import StandardScaler\n",
    "from sklearn.cluster import KMeans\n",
    "from sklearn.metrics import silhouette_score\n",
    "\n",
    "import warnings\n",
    "warnings.filterwarnings('ignore')"
   ]
  },
  {
   "cell_type": "markdown",
   "metadata": {},
   "source": [
    "### Data Loading"
   ]
  },
  {
   "cell_type": "code",
   "execution_count": 364,
   "metadata": {
    "scrolled": true
   },
   "outputs": [
    {
     "data": {
      "text/html": [
       "<div>\n",
       "<style scoped>\n",
       "    .dataframe tbody tr th:only-of-type {\n",
       "        vertical-align: middle;\n",
       "    }\n",
       "\n",
       "    .dataframe tbody tr th {\n",
       "        vertical-align: top;\n",
       "    }\n",
       "\n",
       "    .dataframe thead th {\n",
       "        text-align: right;\n",
       "    }\n",
       "</style>\n",
       "<table border=\"1\" class=\"dataframe\">\n",
       "  <thead>\n",
       "    <tr style=\"text-align: right;\">\n",
       "      <th></th>\n",
       "      <th>spending</th>\n",
       "      <th>advance_payments</th>\n",
       "      <th>probability_of_full_payment</th>\n",
       "      <th>current_balance</th>\n",
       "      <th>credit_limit</th>\n",
       "      <th>min_payment_amt</th>\n",
       "      <th>max_spent_in_single_shopping</th>\n",
       "    </tr>\n",
       "  </thead>\n",
       "  <tbody>\n",
       "    <tr>\n",
       "      <th>0</th>\n",
       "      <td>19.94</td>\n",
       "      <td>16.92</td>\n",
       "      <td>0.8752</td>\n",
       "      <td>6.675</td>\n",
       "      <td>3.763</td>\n",
       "      <td>3.252</td>\n",
       "      <td>6.550</td>\n",
       "    </tr>\n",
       "    <tr>\n",
       "      <th>1</th>\n",
       "      <td>15.99</td>\n",
       "      <td>14.89</td>\n",
       "      <td>0.9064</td>\n",
       "      <td>5.363</td>\n",
       "      <td>3.582</td>\n",
       "      <td>3.336</td>\n",
       "      <td>5.144</td>\n",
       "    </tr>\n",
       "    <tr>\n",
       "      <th>2</th>\n",
       "      <td>18.95</td>\n",
       "      <td>16.42</td>\n",
       "      <td>0.8829</td>\n",
       "      <td>6.248</td>\n",
       "      <td>3.755</td>\n",
       "      <td>3.368</td>\n",
       "      <td>6.148</td>\n",
       "    </tr>\n",
       "    <tr>\n",
       "      <th>3</th>\n",
       "      <td>10.83</td>\n",
       "      <td>12.96</td>\n",
       "      <td>0.8099</td>\n",
       "      <td>5.278</td>\n",
       "      <td>2.641</td>\n",
       "      <td>5.182</td>\n",
       "      <td>5.185</td>\n",
       "    </tr>\n",
       "    <tr>\n",
       "      <th>4</th>\n",
       "      <td>17.99</td>\n",
       "      <td>15.86</td>\n",
       "      <td>0.8992</td>\n",
       "      <td>5.890</td>\n",
       "      <td>3.694</td>\n",
       "      <td>2.068</td>\n",
       "      <td>5.837</td>\n",
       "    </tr>\n",
       "  </tbody>\n",
       "</table>\n",
       "</div>"
      ],
      "text/plain": [
       "   spending  advance_payments  probability_of_full_payment  current_balance  \\\n",
       "0     19.94             16.92                       0.8752            6.675   \n",
       "1     15.99             14.89                       0.9064            5.363   \n",
       "2     18.95             16.42                       0.8829            6.248   \n",
       "3     10.83             12.96                       0.8099            5.278   \n",
       "4     17.99             15.86                       0.8992            5.890   \n",
       "\n",
       "   credit_limit  min_payment_amt  max_spent_in_single_shopping  \n",
       "0         3.763            3.252                         6.550  \n",
       "1         3.582            3.336                         5.144  \n",
       "2         3.755            3.368                         6.148  \n",
       "3         2.641            5.182                         5.185  \n",
       "4         3.694            2.068                         5.837  "
      ]
     },
     "execution_count": 364,
     "metadata": {},
     "output_type": "execute_result"
    }
   ],
   "source": [
    "# read the dataset\n",
    "bank_data = pd.read_csv(\"bank_marketing_part1_Data.csv\")\n",
    "bank_data.head()"
   ]
  },
  {
   "cell_type": "markdown",
   "metadata": {},
   "source": [
    "### Data Inspection"
   ]
  },
  {
   "cell_type": "code",
   "execution_count": 365,
   "metadata": {},
   "outputs": [
    {
     "name": "stdout",
     "output_type": "stream",
     "text": [
      "<class 'pandas.core.frame.DataFrame'>\n",
      "RangeIndex: 210 entries, 0 to 209\n",
      "Data columns (total 7 columns):\n",
      " #   Column                        Non-Null Count  Dtype  \n",
      "---  ------                        --------------  -----  \n",
      " 0   spending                      210 non-null    float64\n",
      " 1   advance_payments              210 non-null    float64\n",
      " 2   probability_of_full_payment   210 non-null    float64\n",
      " 3   current_balance               210 non-null    float64\n",
      " 4   credit_limit                  210 non-null    float64\n",
      " 5   min_payment_amt               210 non-null    float64\n",
      " 6   max_spent_in_single_shopping  210 non-null    float64\n",
      "dtypes: float64(7)\n",
      "memory usage: 11.6 KB\n"
     ]
    }
   ],
   "source": [
    "# basics of the Bank data\n",
    "bank_data.info()"
   ]
  },
  {
   "cell_type": "markdown",
   "metadata": {},
   "source": [
    "### Check for missing values in the dataset."
   ]
  },
  {
   "cell_type": "code",
   "execution_count": 366,
   "metadata": {},
   "outputs": [
    {
     "data": {
      "text/plain": [
       "spending                        0\n",
       "advance_payments                0\n",
       "probability_of_full_payment     0\n",
       "current_balance                 0\n",
       "credit_limit                    0\n",
       "min_payment_amt                 0\n",
       "max_spent_in_single_shopping    0\n",
       "dtype: int64"
      ]
     },
     "execution_count": 366,
     "metadata": {},
     "output_type": "execute_result"
    }
   ],
   "source": [
    "bank_data.isna().sum()"
   ]
  },
  {
   "cell_type": "code",
   "execution_count": 367,
   "metadata": {},
   "outputs": [
    {
     "data": {
      "text/plain": [
       "(210, 7)"
      ]
     },
     "execution_count": 367,
     "metadata": {},
     "output_type": "execute_result"
    }
   ],
   "source": [
    "bank_data.shape"
   ]
  },
  {
   "cell_type": "code",
   "execution_count": 368,
   "metadata": {
    "scrolled": true
   },
   "outputs": [
    {
     "data": {
      "text/html": [
       "<div>\n",
       "<style scoped>\n",
       "    .dataframe tbody tr th:only-of-type {\n",
       "        vertical-align: middle;\n",
       "    }\n",
       "\n",
       "    .dataframe tbody tr th {\n",
       "        vertical-align: top;\n",
       "    }\n",
       "\n",
       "    .dataframe thead th {\n",
       "        text-align: right;\n",
       "    }\n",
       "</style>\n",
       "<table border=\"1\" class=\"dataframe\">\n",
       "  <thead>\n",
       "    <tr style=\"text-align: right;\">\n",
       "      <th></th>\n",
       "      <th>spending</th>\n",
       "      <th>advance_payments</th>\n",
       "      <th>probability_of_full_payment</th>\n",
       "      <th>current_balance</th>\n",
       "      <th>credit_limit</th>\n",
       "      <th>min_payment_amt</th>\n",
       "      <th>max_spent_in_single_shopping</th>\n",
       "    </tr>\n",
       "  </thead>\n",
       "  <tbody>\n",
       "    <tr>\n",
       "      <th>count</th>\n",
       "      <td>210.000000</td>\n",
       "      <td>210.000000</td>\n",
       "      <td>210.000000</td>\n",
       "      <td>210.000000</td>\n",
       "      <td>210.000000</td>\n",
       "      <td>210.000000</td>\n",
       "      <td>210.000000</td>\n",
       "    </tr>\n",
       "    <tr>\n",
       "      <th>mean</th>\n",
       "      <td>14.847524</td>\n",
       "      <td>14.559286</td>\n",
       "      <td>0.870999</td>\n",
       "      <td>5.628533</td>\n",
       "      <td>3.258605</td>\n",
       "      <td>3.700201</td>\n",
       "      <td>5.408071</td>\n",
       "    </tr>\n",
       "    <tr>\n",
       "      <th>std</th>\n",
       "      <td>2.909699</td>\n",
       "      <td>1.305959</td>\n",
       "      <td>0.023629</td>\n",
       "      <td>0.443063</td>\n",
       "      <td>0.377714</td>\n",
       "      <td>1.503557</td>\n",
       "      <td>0.491480</td>\n",
       "    </tr>\n",
       "    <tr>\n",
       "      <th>min</th>\n",
       "      <td>10.590000</td>\n",
       "      <td>12.410000</td>\n",
       "      <td>0.808100</td>\n",
       "      <td>4.899000</td>\n",
       "      <td>2.630000</td>\n",
       "      <td>0.765100</td>\n",
       "      <td>4.519000</td>\n",
       "    </tr>\n",
       "    <tr>\n",
       "      <th>25%</th>\n",
       "      <td>12.270000</td>\n",
       "      <td>13.450000</td>\n",
       "      <td>0.856900</td>\n",
       "      <td>5.262250</td>\n",
       "      <td>2.944000</td>\n",
       "      <td>2.561500</td>\n",
       "      <td>5.045000</td>\n",
       "    </tr>\n",
       "    <tr>\n",
       "      <th>50%</th>\n",
       "      <td>14.355000</td>\n",
       "      <td>14.320000</td>\n",
       "      <td>0.873450</td>\n",
       "      <td>5.523500</td>\n",
       "      <td>3.237000</td>\n",
       "      <td>3.599000</td>\n",
       "      <td>5.223000</td>\n",
       "    </tr>\n",
       "    <tr>\n",
       "      <th>75%</th>\n",
       "      <td>17.305000</td>\n",
       "      <td>15.715000</td>\n",
       "      <td>0.887775</td>\n",
       "      <td>5.979750</td>\n",
       "      <td>3.561750</td>\n",
       "      <td>4.768750</td>\n",
       "      <td>5.877000</td>\n",
       "    </tr>\n",
       "    <tr>\n",
       "      <th>max</th>\n",
       "      <td>21.180000</td>\n",
       "      <td>17.250000</td>\n",
       "      <td>0.918300</td>\n",
       "      <td>6.675000</td>\n",
       "      <td>4.033000</td>\n",
       "      <td>8.456000</td>\n",
       "      <td>6.550000</td>\n",
       "    </tr>\n",
       "  </tbody>\n",
       "</table>\n",
       "</div>"
      ],
      "text/plain": [
       "         spending  advance_payments  probability_of_full_payment  \\\n",
       "count  210.000000        210.000000                   210.000000   \n",
       "mean    14.847524         14.559286                     0.870999   \n",
       "std      2.909699          1.305959                     0.023629   \n",
       "min     10.590000         12.410000                     0.808100   \n",
       "25%     12.270000         13.450000                     0.856900   \n",
       "50%     14.355000         14.320000                     0.873450   \n",
       "75%     17.305000         15.715000                     0.887775   \n",
       "max     21.180000         17.250000                     0.918300   \n",
       "\n",
       "       current_balance  credit_limit  min_payment_amt  \\\n",
       "count       210.000000    210.000000       210.000000   \n",
       "mean          5.628533      3.258605         3.700201   \n",
       "std           0.443063      0.377714         1.503557   \n",
       "min           4.899000      2.630000         0.765100   \n",
       "25%           5.262250      2.944000         2.561500   \n",
       "50%           5.523500      3.237000         3.599000   \n",
       "75%           5.979750      3.561750         4.768750   \n",
       "max           6.675000      4.033000         8.456000   \n",
       "\n",
       "       max_spent_in_single_shopping  \n",
       "count                    210.000000  \n",
       "mean                       5.408071  \n",
       "std                        0.491480  \n",
       "min                        4.519000  \n",
       "25%                        5.045000  \n",
       "50%                        5.223000  \n",
       "75%                        5.877000  \n",
       "max                        6.550000  "
      ]
     },
     "execution_count": 368,
     "metadata": {},
     "output_type": "execute_result"
    }
   ],
   "source": [
    "bank_data.describe()"
   ]
  },
  {
   "cell_type": "markdown",
   "metadata": {},
   "source": [
    "Data is not scaled and we need to scale the data"
   ]
  },
  {
   "cell_type": "markdown",
   "metadata": {},
   "source": [
    "### Data Cleaning"
   ]
  },
  {
   "cell_type": "code",
   "execution_count": 369,
   "metadata": {},
   "outputs": [
    {
     "data": {
      "text/plain": [
       "spending                        0\n",
       "advance_payments                0\n",
       "probability_of_full_payment     0\n",
       "current_balance                 0\n",
       "credit_limit                    0\n",
       "min_payment_amt                 0\n",
       "max_spent_in_single_shopping    0\n",
       "dtype: int64"
      ]
     },
     "execution_count": 369,
     "metadata": {},
     "output_type": "execute_result"
    }
   ],
   "source": [
    "bank_data.isnull().sum()"
   ]
  },
  {
   "cell_type": "markdown",
   "metadata": {},
   "source": [
    "No NULL values are observed."
   ]
  },
  {
   "cell_type": "code",
   "execution_count": 370,
   "metadata": {},
   "outputs": [
    {
     "data": {
      "text/plain": [
       "Series([], dtype: int64)"
      ]
     },
     "execution_count": 370,
     "metadata": {},
     "output_type": "execute_result"
    }
   ],
   "source": [
    "#Checking if any columns having unique value ie only 1 value\n",
    "unique =bank_data.nunique()\n",
    "unique = unique[unique.values ==1]\n",
    "unique"
   ]
  },
  {
   "cell_type": "markdown",
   "metadata": {},
   "source": [
    "No unique value"
   ]
  },
  {
   "cell_type": "markdown",
   "metadata": {},
   "source": [
    "### Checking for Duplicates"
   ]
  },
  {
   "cell_type": "code",
   "execution_count": 371,
   "metadata": {},
   "outputs": [
    {
     "data": {
      "text/plain": [
       "0"
      ]
     },
     "execution_count": 371,
     "metadata": {},
     "output_type": "execute_result"
    }
   ],
   "source": [
    "bank_data.duplicated().sum()"
   ]
  },
  {
   "cell_type": "markdown",
   "metadata": {},
   "source": [
    "## 1. Perform exploratory data analysis. Describe the data briefly."
   ]
  },
  {
   "cell_type": "markdown",
   "metadata": {},
   "source": [
    "## EDA"
   ]
  },
  {
   "cell_type": "code",
   "execution_count": 372,
   "metadata": {},
   "outputs": [
    {
     "data": {
      "image/png": "[encoded data removed]",
      "text/plain": [
       "<Figure size 2160x2880 with 6 Axes>"
      ]
     },
     "metadata": {},
     "output_type": "display_data"
    }
   ],
   "source": [
    "plt.figure(figsize = (30,40))\n",
    "feature = bank_data.columns[:-1]\n",
    "for i in enumerate(feature):\n",
    "    plt.subplot(6,3, i[0]+1)\n",
    "    sns.distplot(bank_data[i[1]])"
   ]
  },
  {
   "cell_type": "markdown",
   "metadata": {},
   "source": [
    "From the above Frequency plot, we can say that there is skewness present in the bank dataset in which we can clearly see that positive skewness present in spending, advance_payments.and negative skewness present in probability_of_full_payment. min_payment_limit and credit_limit variables are seeming to be normally distributed."
   ]
  },
  {
   "cell_type": "code",
   "execution_count": 373,
   "metadata": {},
   "outputs": [
    {
     "data": {
      "image/png": "[encoded data removed]",
      "text/plain": [
       "<Figure size 1224x720 with 2 Axes>"
      ]
     },
     "metadata": {},
     "output_type": "display_data"
    }
   ],
   "source": [
    "plt.figure(figsize=(17,10));\n",
    "sns.heatmap(bank_data.corr(), annot=True, vmin=-1, vmax=1, cmap='coolwarm', lw=2);\n",
    "plt.title('Heatmap showing correlation');"
   ]
  },
  {
   "cell_type": "markdown",
   "metadata": {},
   "source": [
    "1) From Heatmap plot, we can clearly see that our dataset contains multi co-linear pairs that is presence of strong relationship between independent variables which can lead to effect the accuracy of the model. In our data variable spending has strong significant relationship with advance_payments, credit_limit, current_balance and vice versa. Also, advance_payments variable has strong relationship with current_balance variable, current_balance feature has strong relationship with max_spent_in_single_shopping.\n",
    "\n",
    "2) From the above Pair plot, we conclude that there is linear relationship present between variables.So, clearly, we can see that there is presence of multi co-linearity in our dataset."
   ]
  },
  {
   "cell_type": "code",
   "execution_count": 374,
   "metadata": {},
   "outputs": [],
   "source": [
    "# Heatmap to understand the attributes dependency\n",
    "\n",
    "# Let us draw heatmap to understand the corelation better.\n",
    "#plt.figure(figsize = (10,10))  \n",
    "#sns.heatmap(bank_data.corr(),annot = True,cmap=\"YlGnBu\")"
   ]
  },
  {
   "cell_type": "code",
   "execution_count": 375,
   "metadata": {},
   "outputs": [
    {
     "data": {
      "image/png": "[encoded data removed]",
      "text/plain": [
       "<Figure size 1224x720 with 1 Axes>"
      ]
     },
     "metadata": {},
     "output_type": "display_data"
    }
   ],
   "source": [
    "# Checking for outliers \n",
    "plt.figure(figsize=(17,10));\n",
    "sns.boxplot(data=bank_data);\n",
    "plt.title('Check for Outliers - fig a');"
   ]
  },
  {
   "cell_type": "markdown",
   "metadata": {},
   "source": [
    "From the above figure, we can state that outliers are present in the bank dataset and the variables which are prone to outliers are/is min_payment_amt"
   ]
  },
  {
   "cell_type": "code",
   "execution_count": 376,
   "metadata": {},
   "outputs": [],
   "source": [
    "#q1 = bank_data['min_payment_amt'].quantile(0.25)\n",
    "#q3 = bank_data['min_payment_amt'].quantile(0.75)\n",
    "#iqr = q3 - q1\n",
    "#bank_data = bank_data[(bank_data['min_payment_amt'] >= q1-1.5*iqr) & (bank_data['min_payment_amt'] <= q3+1.5*iqr)]\n",
    "#bank_data.shape # To find out the number of rows and column after outlier treatment"
   ]
  },
  {
   "cell_type": "code",
   "execution_count": 377,
   "metadata": {},
   "outputs": [],
   "source": [
    "#sns.boxplot(x=bank_data['min_payment_amt'])\n",
    "#plt.show()"
   ]
  },
  {
   "cell_type": "code",
   "execution_count": 378,
   "metadata": {},
   "outputs": [
    {
     "name": "stdout",
     "output_type": "stream",
     "text": [
      "The number of rows of the dataframe is 210 .\n",
      "The number of columns of the dataframe is 7 .\n"
     ]
    }
   ],
   "source": [
    "print('The number of rows of the dataframe is',bank_data.shape[0],'.')\n",
    "\n",
    "print('The number of columns of the dataframe is',bank_data.shape[1],'.')"
   ]
  },
  {
   "cell_type": "markdown",
   "metadata": {},
   "source": [
    "## 2. Why scaling is necessary for clustering in this case? Justify"
   ]
  },
  {
   "cell_type": "markdown",
   "metadata": {},
   "source": [
    "Scaling is needed , becasue if we dont scale the date and if we take such coloumns that are not scaled we\n",
    "may get the resultls that are highliy influenced by the coloumns that has higher magnitude of information.\n",
    "\n",
    "For data that is of different physical measurements or units, its probably a good idea to scale and center. \n",
    "For example, when clustering credit limit the data may contain attributes such as spendings,probability of full payment, currenct balance, etc. In this case it may be a better idea to scale and center since we are unsure of the relationship between each attribute. The intuition behind that is that since many clustering algorithms require some definition of distance, if we do not scale and center our data, we may give attributes which have larger magnitudes more importance. In the context of our problem, I would scale and center the data if it contains attributes like spending, credit limit, current balance etc.\n"
   ]
  },
  {
   "cell_type": "code",
   "execution_count": 379,
   "metadata": {},
   "outputs": [],
   "source": [
    "# importing the StandardScaler Module\n",
    "from sklearn.preprocessing import StandardScaler"
   ]
  },
  {
   "cell_type": "code",
   "execution_count": 380,
   "metadata": {
    "scrolled": true
   },
   "outputs": [
    {
     "data": {
      "text/plain": [
       "array([[ 1.75435461,  1.81196782,  0.17822987, ...,  1.33857863,\n",
       "        -0.29880602,  2.3289982 ],\n",
       "       [ 0.39358228,  0.25383997,  1.501773  , ...,  0.85823561,\n",
       "        -0.24280501, -0.53858174],\n",
       "       [ 1.41330028,  1.42819249,  0.50487353, ...,  1.317348  ,\n",
       "        -0.22147129,  1.50910692],\n",
       "       ...,\n",
       "       [-0.2816364 , -0.30647202,  0.36488339, ..., -0.15287318,\n",
       "        -1.3221578 , -0.83023461],\n",
       "       [ 0.43836719,  0.33827054,  1.23027698, ...,  0.60081421,\n",
       "        -0.95348449,  0.07123789],\n",
       "       [ 0.24889256,  0.45340314, -0.77624835, ..., -0.07325831,\n",
       "        -0.70681338,  0.96047321]])"
      ]
     },
     "execution_count": 380,
     "metadata": {},
     "output_type": "execute_result"
    }
   ],
   "source": [
    "scaler = StandardScaler()\n",
    "scaled_df = scaler.fit_transform(bank_data)\n",
    "scaled_df"
   ]
  },
  {
   "cell_type": "markdown",
   "metadata": {},
   "source": [
    "## 3. Perform hierarchical clustering to scaled data. Identify the number of optimum clusters using Dendrogram and briefly describe them"
   ]
  },
  {
   "cell_type": "markdown",
   "metadata": {},
   "source": [
    "# Creating the Dendrogram\n",
    "### Importing dendrogram and linkage module"
   ]
  },
  {
   "cell_type": "code",
   "execution_count": 381,
   "metadata": {},
   "outputs": [],
   "source": [
    "from scipy.cluster.hierarchy import dendrogram, linkage"
   ]
  },
  {
   "cell_type": "code",
   "execution_count": 382,
   "metadata": {},
   "outputs": [],
   "source": [
    "wardlink = linkage(scaled_df, method = 'ward')"
   ]
  },
  {
   "cell_type": "code",
   "execution_count": 383,
   "metadata": {},
   "outputs": [
    {
     "data": {
      "image/png": "[encoded data removed]",
      "text/plain": [
       "<Figure size 576x396 with 1 Axes>"
      ]
     },
     "metadata": {},
     "output_type": "display_data"
    }
   ],
   "source": [
    "dend = dendrogram(wardlink)"
   ]
  },
  {
   "cell_type": "code",
   "execution_count": 384,
   "metadata": {},
   "outputs": [
    {
     "data": {
      "image/png": "[encoded data removed]",
      "text/plain": [
       "<Figure size 576x396 with 1 Axes>"
      ]
     },
     "metadata": {},
     "output_type": "display_data"
    }
   ],
   "source": [
    "dend = dendrogram(wardlink,\n",
    "                 truncate_mode='lastp',\n",
    "                 p = 12,\n",
    "                 )"
   ]
  },
  {
   "cell_type": "markdown",
   "metadata": {},
   "source": [
    "- There are 2 clusters red and green and we can see the 2 vertical lines covering both the clusters , therefore the optimum number of clusters would be 2.\n",
    "- Green cluster has minimum number of transactions where as orange cluster has comparetively large number of transactions"
   ]
  },
  {
   "cell_type": "markdown",
   "metadata": {},
   "source": [
    "# Importing fcluster module to create clusters"
   ]
  },
  {
   "cell_type": "code",
   "execution_count": 385,
   "metadata": {},
   "outputs": [],
   "source": [
    "from scipy.cluster.hierarchy import fcluster"
   ]
  },
  {
   "cell_type": "code",
   "execution_count": 386,
   "metadata": {},
   "outputs": [
    {
     "data": {
      "text/plain": [
       "array([1, 2, 1, 2, 1, 2, 2, 2, 1, 2, 1, 2, 2, 1, 2, 2, 2, 2, 2, 2, 2, 2,\n",
       "       1, 2, 2, 1, 2, 2, 2, 2, 2, 2, 2, 2, 2, 2, 2, 2, 2, 1, 1, 2, 1, 1,\n",
       "       2, 2, 2, 1, 1, 1, 2, 1, 1, 1, 1, 1, 2, 2, 2, 1, 2, 2, 2, 2, 2, 1,\n",
       "       1, 2, 1, 2, 2, 2, 1, 1, 2, 1, 2, 2, 1, 2, 2, 2, 2, 1, 2, 2, 2, 1,\n",
       "       1, 2, 2, 1, 2, 2, 2, 1, 1, 1, 2, 1, 2, 1, 2, 1, 2, 1, 1, 2, 2, 1,\n",
       "       2, 2, 1, 2, 2, 1, 2, 2, 2, 1, 2, 2, 2, 2, 2, 2, 1, 2, 2, 2, 2, 2,\n",
       "       2, 1, 2, 1, 1, 2, 1, 2, 2, 2, 2, 2, 2, 2, 1, 2, 2, 2, 2, 2, 2, 2,\n",
       "       2, 2, 2, 2, 2, 1, 1, 2, 1, 1, 1, 2, 1, 2, 2, 2, 2, 2, 2, 1, 1, 1,\n",
       "       2, 2, 1, 2, 2, 2, 2, 2, 1, 1, 2, 2, 2, 2, 2, 2, 2, 1, 2, 1, 1, 2,\n",
       "       1, 2, 2, 1, 2, 2, 1, 2, 1, 2, 1, 2], dtype=int32)"
      ]
     },
     "execution_count": 386,
     "metadata": {},
     "output_type": "execute_result"
    }
   ],
   "source": [
    "#Method 1\n",
    "\n",
    "clusters = fcluster(wardlink, 2, criterion='maxclust')\n",
    "clusters"
   ]
  },
  {
   "cell_type": "code",
   "execution_count": 387,
   "metadata": {},
   "outputs": [
    {
     "data": {
      "text/plain": [
       "array([1, 2, 1, 2, 1, 2, 2, 2, 1, 2, 1, 2, 2, 1, 2, 2, 2, 2, 2, 2, 2, 2,\n",
       "       1, 2, 2, 1, 2, 2, 2, 2, 2, 2, 2, 2, 2, 2, 2, 2, 2, 1, 1, 2, 1, 1,\n",
       "       2, 2, 2, 1, 1, 1, 2, 1, 1, 1, 1, 1, 2, 2, 2, 1, 2, 2, 2, 2, 2, 1,\n",
       "       1, 2, 1, 2, 2, 2, 1, 1, 2, 1, 2, 2, 1, 2, 2, 2, 2, 1, 2, 2, 2, 1,\n",
       "       1, 2, 2, 1, 2, 2, 2, 1, 1, 1, 2, 1, 2, 1, 2, 1, 2, 1, 1, 2, 2, 1,\n",
       "       2, 2, 1, 2, 2, 1, 2, 2, 2, 1, 2, 2, 2, 2, 2, 2, 1, 2, 2, 2, 2, 2,\n",
       "       2, 1, 2, 1, 1, 2, 1, 2, 2, 2, 2, 2, 2, 2, 1, 2, 2, 2, 2, 2, 2, 2,\n",
       "       2, 2, 2, 2, 2, 1, 1, 2, 1, 1, 1, 2, 1, 2, 2, 2, 2, 2, 2, 1, 1, 1,\n",
       "       2, 2, 1, 2, 2, 2, 2, 2, 1, 1, 2, 2, 2, 2, 2, 2, 2, 1, 2, 1, 1, 2,\n",
       "       1, 2, 2, 1, 2, 2, 1, 2, 1, 2, 1, 2], dtype=int32)"
      ]
     },
     "execution_count": 387,
     "metadata": {},
     "output_type": "execute_result"
    }
   ],
   "source": [
    "# Method 2\n",
    "\n",
    "clusters = fcluster(wardlink, 24, criterion='distance')\n",
    "clusters"
   ]
  },
  {
   "cell_type": "code",
   "execution_count": 388,
   "metadata": {},
   "outputs": [],
   "source": [
    "bank_data['clusters'] = clusters"
   ]
  },
  {
   "cell_type": "code",
   "execution_count": 389,
   "metadata": {
    "scrolled": true
   },
   "outputs": [
    {
     "data": {
      "text/html": [
       "<div>\n",
       "<style scoped>\n",
       "    .dataframe tbody tr th:only-of-type {\n",
       "        vertical-align: middle;\n",
       "    }\n",
       "\n",
       "    .dataframe tbody tr th {\n",
       "        vertical-align: top;\n",
       "    }\n",
       "\n",
       "    .dataframe thead th {\n",
       "        text-align: right;\n",
       "    }\n",
       "</style>\n",
       "<table border=\"1\" class=\"dataframe\">\n",
       "  <thead>\n",
       "    <tr style=\"text-align: right;\">\n",
       "      <th></th>\n",
       "      <th>spending</th>\n",
       "      <th>advance_payments</th>\n",
       "      <th>probability_of_full_payment</th>\n",
       "      <th>current_balance</th>\n",
       "      <th>credit_limit</th>\n",
       "      <th>min_payment_amt</th>\n",
       "      <th>max_spent_in_single_shopping</th>\n",
       "      <th>clusters</th>\n",
       "    </tr>\n",
       "  </thead>\n",
       "  <tbody>\n",
       "    <tr>\n",
       "      <th>0</th>\n",
       "      <td>19.94</td>\n",
       "      <td>16.92</td>\n",
       "      <td>0.8752</td>\n",
       "      <td>6.675</td>\n",
       "      <td>3.763</td>\n",
       "      <td>3.252</td>\n",
       "      <td>6.550</td>\n",
       "      <td>1</td>\n",
       "    </tr>\n",
       "    <tr>\n",
       "      <th>1</th>\n",
       "      <td>15.99</td>\n",
       "      <td>14.89</td>\n",
       "      <td>0.9064</td>\n",
       "      <td>5.363</td>\n",
       "      <td>3.582</td>\n",
       "      <td>3.336</td>\n",
       "      <td>5.144</td>\n",
       "      <td>2</td>\n",
       "    </tr>\n",
       "    <tr>\n",
       "      <th>2</th>\n",
       "      <td>18.95</td>\n",
       "      <td>16.42</td>\n",
       "      <td>0.8829</td>\n",
       "      <td>6.248</td>\n",
       "      <td>3.755</td>\n",
       "      <td>3.368</td>\n",
       "      <td>6.148</td>\n",
       "      <td>1</td>\n",
       "    </tr>\n",
       "    <tr>\n",
       "      <th>3</th>\n",
       "      <td>10.83</td>\n",
       "      <td>12.96</td>\n",
       "      <td>0.8099</td>\n",
       "      <td>5.278</td>\n",
       "      <td>2.641</td>\n",
       "      <td>5.182</td>\n",
       "      <td>5.185</td>\n",
       "      <td>2</td>\n",
       "    </tr>\n",
       "    <tr>\n",
       "      <th>4</th>\n",
       "      <td>17.99</td>\n",
       "      <td>15.86</td>\n",
       "      <td>0.8992</td>\n",
       "      <td>5.890</td>\n",
       "      <td>3.694</td>\n",
       "      <td>2.068</td>\n",
       "      <td>5.837</td>\n",
       "      <td>1</td>\n",
       "    </tr>\n",
       "  </tbody>\n",
       "</table>\n",
       "</div>"
      ],
      "text/plain": [
       "   spending  advance_payments  probability_of_full_payment  current_balance  \\\n",
       "0     19.94             16.92                       0.8752            6.675   \n",
       "1     15.99             14.89                       0.9064            5.363   \n",
       "2     18.95             16.42                       0.8829            6.248   \n",
       "3     10.83             12.96                       0.8099            5.278   \n",
       "4     17.99             15.86                       0.8992            5.890   \n",
       "\n",
       "   credit_limit  min_payment_amt  max_spent_in_single_shopping  clusters  \n",
       "0         3.763            3.252                         6.550         1  \n",
       "1         3.582            3.336                         5.144         2  \n",
       "2         3.755            3.368                         6.148         1  \n",
       "3         2.641            5.182                         5.185         2  \n",
       "4         3.694            2.068                         5.837         1  "
      ]
     },
     "execution_count": 389,
     "metadata": {},
     "output_type": "execute_result"
    }
   ],
   "source": [
    "bank_data.head()"
   ]
  },
  {
   "cell_type": "markdown",
   "metadata": {},
   "source": [
    "### Cluster Frequency"
   ]
  },
  {
   "cell_type": "code",
   "execution_count": 390,
   "metadata": {},
   "outputs": [
    {
     "data": {
      "text/plain": [
       "1     70\n",
       "2    140\n",
       "Name: clusters, dtype: int64"
      ]
     },
     "execution_count": 390,
     "metadata": {},
     "output_type": "execute_result"
    }
   ],
   "source": [
    "bank_data.clusters.value_counts().sort_index()"
   ]
  },
  {
   "cell_type": "markdown",
   "metadata": {},
   "source": [
    "# Cluster Profiles"
   ]
  },
  {
   "cell_type": "code",
   "execution_count": 391,
   "metadata": {},
   "outputs": [
    {
     "data": {
      "text/html": [
       "<div>\n",
       "<style scoped>\n",
       "    .dataframe tbody tr th:only-of-type {\n",
       "        vertical-align: middle;\n",
       "    }\n",
       "\n",
       "    .dataframe tbody tr th {\n",
       "        vertical-align: top;\n",
       "    }\n",
       "\n",
       "    .dataframe thead th {\n",
       "        text-align: right;\n",
       "    }\n",
       "</style>\n",
       "<table border=\"1\" class=\"dataframe\">\n",
       "  <thead>\n",
       "    <tr style=\"text-align: right;\">\n",
       "      <th></th>\n",
       "      <th>spending</th>\n",
       "      <th>advance_payments</th>\n",
       "      <th>probability_of_full_payment</th>\n",
       "      <th>current_balance</th>\n",
       "      <th>credit_limit</th>\n",
       "      <th>min_payment_amt</th>\n",
       "      <th>max_spent_in_single_shopping</th>\n",
       "      <th>Freq</th>\n",
       "    </tr>\n",
       "    <tr>\n",
       "      <th>clusters</th>\n",
       "      <th></th>\n",
       "      <th></th>\n",
       "      <th></th>\n",
       "      <th></th>\n",
       "      <th></th>\n",
       "      <th></th>\n",
       "      <th></th>\n",
       "      <th></th>\n",
       "    </tr>\n",
       "  </thead>\n",
       "  <tbody>\n",
       "    <tr>\n",
       "      <th>1</th>\n",
       "      <td>18.371429</td>\n",
       "      <td>16.145429</td>\n",
       "      <td>0.884400</td>\n",
       "      <td>6.158171</td>\n",
       "      <td>3.684629</td>\n",
       "      <td>3.639157</td>\n",
       "      <td>6.017371</td>\n",
       "      <td>70</td>\n",
       "    </tr>\n",
       "    <tr>\n",
       "      <th>2</th>\n",
       "      <td>13.085571</td>\n",
       "      <td>13.766214</td>\n",
       "      <td>0.864298</td>\n",
       "      <td>5.363714</td>\n",
       "      <td>3.045593</td>\n",
       "      <td>3.730723</td>\n",
       "      <td>5.103421</td>\n",
       "      <td>140</td>\n",
       "    </tr>\n",
       "  </tbody>\n",
       "</table>\n",
       "</div>"
      ],
      "text/plain": [
       "           spending  advance_payments  probability_of_full_payment  \\\n",
       "clusters                                                             \n",
       "1         18.371429         16.145429                     0.884400   \n",
       "2         13.085571         13.766214                     0.864298   \n",
       "\n",
       "          current_balance  credit_limit  min_payment_amt  \\\n",
       "clusters                                                   \n",
       "1                6.158171      3.684629         3.639157   \n",
       "2                5.363714      3.045593         3.730723   \n",
       "\n",
       "          max_spent_in_single_shopping  Freq  \n",
       "clusters                                      \n",
       "1                             6.017371    70  \n",
       "2                             5.103421   140  "
      ]
     },
     "execution_count": 391,
     "metadata": {},
     "output_type": "execute_result"
    }
   ],
   "source": [
    "#aggdata=bank_data.iloc[:,0:8].groupby('clusters').mean()\n",
    "aggdata=bank_data.groupby('clusters').mean()\n",
    "aggdata['Freq']=bank_data.clusters.value_counts().sort_index()\n",
    "aggdata"
   ]
  },
  {
   "cell_type": "markdown",
   "metadata": {},
   "source": [
    "- Cluster 1: Customer has better profile with repsect to speding and credit limit, they are premium customers\n",
    "- Cluster 2: Customers have lower credit limit and less spending limit and they are less spenders\n",
    "- Cluster 1 has lesser customers in comparision to clsuter 2, which means bank can come up with some offers for cluster 2   customers so that they can spend more or spend atleast close to what cluster 1 customer has been spending. \n",
    "- Credit card with more lucerative incentives can help to attracct cluster 2 customers\n",
    "- It can be seen that cluster 2 customers has less probability of full payment in comparision to cluster 1, bank could identify the reasons to improve the probabiltiy in both the cases.\n",
    "\n"
   ]
  },
  {
   "cell_type": "code",
   "execution_count": 392,
   "metadata": {},
   "outputs": [],
   "source": [
    "#bank_data.to_csv('bank_new.csv')"
   ]
  },
  {
   "cell_type": "markdown",
   "metadata": {},
   "source": [
    "## 4. Perform K-Means clustering on scaled data and determine optimum clusters. Apply elbow curve and silhouette score."
   ]
  },
  {
   "cell_type": "markdown",
   "metadata": {},
   "source": [
    "# Using K Means Clustering"
   ]
  },
  {
   "cell_type": "markdown",
   "metadata": {},
   "source": [
    "## Removing outliers"
   ]
  },
  {
   "cell_type": "markdown",
   "metadata": {},
   "source": [
    "K-means can be quite sensitive to outliers."
   ]
  },
  {
   "cell_type": "code",
   "execution_count": 393,
   "metadata": {},
   "outputs": [],
   "source": [
    "def remove_outliers(data):\n",
    "    Q1,Q3=np.percentile(data,[25,75])\n",
    "    IQR=Q3-Q1\n",
    "    lower_range= Q1-(1.5 * IQR)\n",
    "    upper_range= Q3+(1.5 * IQR)\n",
    "    return lower_range, upper_range"
   ]
  },
  {
   "cell_type": "code",
   "execution_count": 394,
   "metadata": {},
   "outputs": [],
   "source": [
    "columns = [i for i in bank_data.columns[1:]]\n",
    "for i in columns:\n",
    "    ll, ul = remove_outliers(bank_data[i])\n",
    "    bank_data[i]=np.where(bank_data[i]>ul, ul, bank_data[i])\n",
    "    bank_data[i]=np.where(bank_data[i]<ll, ll, bank_data[i])"
   ]
  },
  {
   "cell_type": "code",
   "execution_count": 395,
   "metadata": {},
   "outputs": [
    {
     "data": {
      "image/png": "[encoded data removed]",
      "text/plain": [
       "<Figure size 1224x720 with 1 Axes>"
      ]
     },
     "metadata": {},
     "output_type": "display_data"
    }
   ],
   "source": [
    "plt.figure(figsize=(17,10));\n",
    "sns.boxplot(data=bank_data);\n",
    "plt.title('Check for Outliers after removing - fig b');"
   ]
  },
  {
   "cell_type": "markdown",
   "metadata": {},
   "source": [
    "# Creating Clusters using KMeans"
   ]
  },
  {
   "cell_type": "code",
   "execution_count": 396,
   "metadata": {},
   "outputs": [],
   "source": [
    "k_means = KMeans(n_clusters = 2,verbose=1)"
   ]
  },
  {
   "cell_type": "code",
   "execution_count": 397,
   "metadata": {},
   "outputs": [
    {
     "name": "stdout",
     "output_type": "stream",
     "text": [
      "Initialization complete\n",
      "Iteration 0, inertia 845.5994108190129\n",
      "Iteration 1, inertia 659.171754487041\n",
      "Converged at iteration 1: center shift 0.0 within tolerance 9.999999999999999e-05\n",
      "Initialization complete\n",
      "Iteration 0, inertia 1029.633782825897\n",
      "Iteration 1, inertia 681.815387213617\n",
      "Iteration 2, inertia 665.3179220658277\n",
      "Iteration 3, inertia 662.4887522031312\n",
      "Iteration 4, inertia 662.0393605297505\n",
      "Iteration 5, inertia 660.7568648121209\n",
      "Iteration 6, inertia 660.0567034740023\n",
      "Iteration 7, inertia 659.9357766443566\n",
      "Converged at iteration 7: center shift 0.0 within tolerance 9.999999999999999e-05\n",
      "Initialization complete\n",
      "Iteration 0, inertia 1332.009136044505\n",
      "Iteration 1, inertia 676.2135680236668\n",
      "Iteration 2, inertia 662.8326692843024\n",
      "Iteration 3, inertia 659.3788710294709\n",
      "Iteration 4, inertia 659.171754487041\n",
      "Converged at iteration 4: center shift 0.0 within tolerance 9.999999999999999e-05\n",
      "Initialization complete\n",
      "Iteration 0, inertia 1103.8549797160758\n",
      "Iteration 1, inertia 762.3994026870313\n",
      "Iteration 2, inertia 718.2903665410415\n",
      "Iteration 3, inertia 686.5876565814591\n",
      "Iteration 4, inertia 670.3158701216115\n",
      "Iteration 5, inertia 663.4284258333593\n",
      "Iteration 6, inertia 662.0393605297505\n",
      "Iteration 7, inertia 660.7568648121209\n",
      "Iteration 8, inertia 660.0567034740023\n",
      "Iteration 9, inertia 659.9357766443566\n",
      "Converged at iteration 9: center shift 0.0 within tolerance 9.999999999999999e-05\n",
      "Initialization complete\n",
      "Iteration 0, inertia 1104.054566733721\n",
      "Iteration 1, inertia 662.2851454161371\n",
      "Iteration 2, inertia 659.3788710294709\n",
      "Iteration 3, inertia 659.171754487041\n",
      "Converged at iteration 3: center shift 0.0 within tolerance 9.999999999999999e-05\n",
      "Initialization complete\n",
      "Iteration 0, inertia 1206.9775478129502\n",
      "Iteration 1, inertia 744.464922299786\n",
      "Iteration 2, inertia 703.6243923972924\n",
      "Iteration 3, inertia 677.5237299711514\n",
      "Iteration 4, inertia 665.5531328769421\n",
      "Iteration 5, inertia 662.4887522031312\n",
      "Iteration 6, inertia 662.0393605297505\n",
      "Iteration 7, inertia 660.7568648121209\n",
      "Iteration 8, inertia 660.0567034740023\n",
      "Iteration 9, inertia 659.9357766443566\n",
      "Converged at iteration 9: center shift 0.0 within tolerance 9.999999999999999e-05\n",
      "Initialization complete\n",
      "Iteration 0, inertia 980.1321554988889\n",
      "Iteration 1, inertia 659.6515873082994\n",
      "Iteration 2, inertia 659.3788710294709\n",
      "Iteration 3, inertia 659.171754487041\n",
      "Converged at iteration 3: center shift 0.0 within tolerance 9.999999999999999e-05\n",
      "Initialization complete\n",
      "Iteration 0, inertia 1184.7724801825455\n",
      "Iteration 1, inertia 780.1072762116414\n",
      "Iteration 2, inertia 723.0626966215099\n",
      "Iteration 3, inertia 688.2223464091408\n",
      "Iteration 4, inertia 670.3158701216115\n",
      "Iteration 5, inertia 663.4284258333593\n",
      "Iteration 6, inertia 662.0393605297505\n",
      "Iteration 7, inertia 660.7568648121209\n",
      "Iteration 8, inertia 660.0567034740023\n",
      "Iteration 9, inertia 659.9357766443566\n",
      "Converged at iteration 9: center shift 0.0 within tolerance 9.999999999999999e-05\n",
      "Initialization complete\n",
      "Iteration 0, inertia 1564.5157572384917\n",
      "Iteration 1, inertia 696.7418428629155\n",
      "Iteration 2, inertia 673.0867126011946\n",
      "Iteration 3, inertia 665.5531328769421\n",
      "Iteration 4, inertia 662.4887522031312\n",
      "Iteration 5, inertia 662.0393605297505\n",
      "Iteration 6, inertia 660.7568648121209\n",
      "Iteration 7, inertia 660.0567034740023\n",
      "Iteration 8, inertia 659.9357766443566\n",
      "Converged at iteration 8: center shift 0.0 within tolerance 9.999999999999999e-05\n",
      "Initialization complete\n",
      "Iteration 0, inertia 1547.5464448498385\n",
      "Iteration 1, inertia 684.9690240441216\n",
      "Iteration 2, inertia 667.6465639716004\n",
      "Iteration 3, inertia 662.8001220388816\n",
      "Iteration 4, inertia 662.0393605297505\n",
      "Iteration 5, inertia 660.7568648121209\n",
      "Iteration 6, inertia 660.0567034740023\n",
      "Iteration 7, inertia 659.9357766443566\n",
      "Converged at iteration 7: center shift 0.0 within tolerance 9.999999999999999e-05\n"
     ]
    },
    {
     "data": {
      "text/plain": [
       "KMeans(n_clusters=2, verbose=1)"
      ]
     },
     "execution_count": 397,
     "metadata": {},
     "output_type": "execute_result"
    }
   ],
   "source": [
    "k_means.fit(scaled_df)"
   ]
  },
  {
   "cell_type": "code",
   "execution_count": 398,
   "metadata": {},
   "outputs": [
    {
     "data": {
      "text/plain": [
       "array([0, 1, 0, 1, 0, 1, 1, 1, 0, 1, 0, 1, 1, 0, 1, 1, 0, 1, 1, 1, 1, 1,\n",
       "       0, 1, 1, 0, 1, 1, 1, 1, 1, 1, 1, 0, 1, 1, 1, 1, 1, 0, 0, 1, 0, 0,\n",
       "       1, 1, 1, 0, 0, 0, 1, 0, 0, 0, 0, 0, 1, 1, 1, 0, 1, 1, 1, 1, 1, 0,\n",
       "       0, 1, 0, 1, 1, 1, 0, 0, 1, 0, 1, 1, 0, 1, 1, 1, 1, 0, 1, 1, 0, 0,\n",
       "       0, 1, 1, 0, 1, 1, 1, 0, 0, 0, 1, 0, 1, 0, 1, 0, 1, 0, 0, 1, 1, 0,\n",
       "       0, 1, 0, 1, 1, 0, 1, 1, 1, 0, 1, 1, 1, 1, 1, 1, 0, 1, 1, 1, 1, 1,\n",
       "       1, 0, 1, 0, 0, 1, 0, 1, 1, 1, 1, 1, 1, 1, 0, 1, 1, 1, 1, 1, 1, 0,\n",
       "       1, 1, 1, 1, 1, 0, 0, 1, 0, 0, 0, 1, 0, 1, 1, 1, 0, 1, 1, 0, 0, 0,\n",
       "       1, 1, 0, 1, 1, 1, 1, 1, 0, 0, 1, 1, 1, 1, 1, 1, 1, 0, 1, 0, 0, 1,\n",
       "       0, 1, 1, 0, 1, 1, 0, 1, 0, 1, 0, 0])"
      ]
     },
     "execution_count": 398,
     "metadata": {},
     "output_type": "execute_result"
    }
   ],
   "source": [
    "k_means.labels_"
   ]
  },
  {
   "cell_type": "code",
   "execution_count": 399,
   "metadata": {},
   "outputs": [
    {
     "data": {
      "text/plain": [
       "659.171754487041"
      ]
     },
     "execution_count": 399,
     "metadata": {},
     "output_type": "execute_result"
    }
   ],
   "source": [
    "k_means.inertia_"
   ]
  },
  {
   "cell_type": "code",
   "execution_count": 400,
   "metadata": {},
   "outputs": [
    {
     "data": {
      "text/plain": [
       "430.6589731513006"
      ]
     },
     "execution_count": 400,
     "metadata": {},
     "output_type": "execute_result"
    }
   ],
   "source": [
    "k_means = KMeans(n_clusters = 3)\n",
    "k_means.fit(scaled_df)\n",
    "k_means.inertia_"
   ]
  },
  {
   "cell_type": "code",
   "execution_count": 401,
   "metadata": {},
   "outputs": [
    {
     "data": {
      "text/plain": [
       "371.30172127754196"
      ]
     },
     "execution_count": 401,
     "metadata": {},
     "output_type": "execute_result"
    }
   ],
   "source": [
    "k_means = KMeans(n_clusters = 4)\n",
    "k_means.fit(scaled_df)\n",
    "k_means.inertia_"
   ]
  },
  {
   "cell_type": "code",
   "execution_count": 402,
   "metadata": {},
   "outputs": [
    {
     "data": {
      "text/plain": [
       "1469.9999999999998"
      ]
     },
     "execution_count": 402,
     "metadata": {},
     "output_type": "execute_result"
    }
   ],
   "source": [
    "k_means = KMeans(n_clusters = 1)\n",
    "k_means.fit(scaled_df)\n",
    "k_means.inertia_"
   ]
  },
  {
   "cell_type": "code",
   "execution_count": 403,
   "metadata": {},
   "outputs": [
    {
     "data": {
      "text/plain": [
       "327.3281094192775"
      ]
     },
     "execution_count": 403,
     "metadata": {},
     "output_type": "execute_result"
    }
   ],
   "source": [
    "k_means = KMeans(n_clusters = 5)\n",
    "k_means.fit(scaled_df)\n",
    "k_means.inertia_"
   ]
  },
  {
   "cell_type": "code",
   "execution_count": 404,
   "metadata": {},
   "outputs": [
    {
     "data": {
      "text/plain": [
       "290.6487044856193"
      ]
     },
     "execution_count": 404,
     "metadata": {},
     "output_type": "execute_result"
    }
   ],
   "source": [
    "k_means = KMeans(n_clusters = 6)\n",
    "k_means.fit(scaled_df)\n",
    "k_means.inertia_"
   ]
  },
  {
   "cell_type": "markdown",
   "metadata": {},
   "source": [
    "WSS reduces as K keeps increasing"
   ]
  },
  {
   "cell_type": "code",
   "execution_count": 405,
   "metadata": {},
   "outputs": [],
   "source": [
    "wss =[] "
   ]
  },
  {
   "cell_type": "code",
   "execution_count": 406,
   "metadata": {},
   "outputs": [],
   "source": [
    "for i in range(2,11):\n",
    "    KM = KMeans(n_clusters=i)\n",
    "    KM.fit(scaled_df)\n",
    "    wss.append(KM.inertia_)"
   ]
  },
  {
   "cell_type": "code",
   "execution_count": 407,
   "metadata": {},
   "outputs": [
    {
     "data": {
      "text/plain": [
       "[659.171754487041,\n",
       " 430.6589731513006,\n",
       " 371.65314399951626,\n",
       " 326.5136953844313,\n",
       " 289.46717056412893,\n",
       " 262.4508608641794,\n",
       " 239.09777495279283,\n",
       " 223.10976574718265,\n",
       " 204.89898109036415]"
      ]
     },
     "execution_count": 407,
     "metadata": {},
     "output_type": "execute_result"
    }
   ],
   "source": [
    "wss"
   ]
  },
  {
   "cell_type": "code",
   "execution_count": 408,
   "metadata": {},
   "outputs": [
    {
     "data": {
      "image/png": "[encoded data removed]",
      "text/plain": [
       "<Figure size 576x396 with 1 Axes>"
      ]
     },
     "metadata": {},
     "output_type": "display_data"
    }
   ],
   "source": [
    "plt.plot(range(2,11), wss);"
   ]
  },
  {
   "cell_type": "markdown",
   "metadata": {},
   "source": [
    "You can clearly see why it is called 'The elbow method' from the above graph, the optimum clusters is where the elbow occurs. This is when the within cluster sum of squares (WCSS) doesn't decrease significantly with every iteration.\n",
    "\n",
    "From this we can see that WCSS doesn't decrease significantly after 3 so the optimum number of clusters would be 3."
   ]
  },
  {
   "cell_type": "code",
   "execution_count": 409,
   "metadata": {},
   "outputs": [],
   "source": [
    "k_means = KMeans(n_clusters = 4)\n",
    "k_means.fit(scaled_df)\n",
    "labels = k_means.labels_"
   ]
  },
  {
   "cell_type": "code",
   "execution_count": 410,
   "metadata": {},
   "outputs": [
    {
     "data": {
      "text/plain": [
       "0.32757426605518075"
      ]
     },
     "execution_count": 410,
     "metadata": {},
     "output_type": "execute_result"
    }
   ],
   "source": [
    "silhouette_score(scaled_df,labels)"
   ]
  },
  {
   "cell_type": "code",
   "execution_count": 411,
   "metadata": {},
   "outputs": [],
   "source": [
    "k_means = KMeans(n_clusters = 3)\n",
    "k_means.fit(scaled_df)\n",
    "labels = k_means.labels_"
   ]
  },
  {
   "cell_type": "code",
   "execution_count": 412,
   "metadata": {},
   "outputs": [
    {
     "data": {
      "text/plain": [
       "0.4007270552751299"
      ]
     },
     "execution_count": 412,
     "metadata": {},
     "output_type": "execute_result"
    }
   ],
   "source": [
    "silhouette_score(scaled_df,labels)"
   ]
  },
  {
   "cell_type": "code",
   "execution_count": 413,
   "metadata": {},
   "outputs": [
    {
     "data": {
      "text/html": [
       "<div>\n",
       "<style scoped>\n",
       "    .dataframe tbody tr th:only-of-type {\n",
       "        vertical-align: middle;\n",
       "    }\n",
       "\n",
       "    .dataframe tbody tr th {\n",
       "        vertical-align: top;\n",
       "    }\n",
       "\n",
       "    .dataframe thead th {\n",
       "        text-align: right;\n",
       "    }\n",
       "</style>\n",
       "<table border=\"1\" class=\"dataframe\">\n",
       "  <thead>\n",
       "    <tr style=\"text-align: right;\">\n",
       "      <th></th>\n",
       "      <th>spending</th>\n",
       "      <th>advance_payments</th>\n",
       "      <th>probability_of_full_payment</th>\n",
       "      <th>current_balance</th>\n",
       "      <th>credit_limit</th>\n",
       "      <th>min_payment_amt</th>\n",
       "      <th>max_spent_in_single_shopping</th>\n",
       "      <th>clusters</th>\n",
       "      <th>Clus_kmeans</th>\n",
       "    </tr>\n",
       "  </thead>\n",
       "  <tbody>\n",
       "    <tr>\n",
       "      <th>0</th>\n",
       "      <td>19.94</td>\n",
       "      <td>16.92</td>\n",
       "      <td>0.875200</td>\n",
       "      <td>6.675</td>\n",
       "      <td>3.763</td>\n",
       "      <td>3.252</td>\n",
       "      <td>6.550</td>\n",
       "      <td>1.0</td>\n",
       "      <td>1</td>\n",
       "    </tr>\n",
       "    <tr>\n",
       "      <th>1</th>\n",
       "      <td>15.99</td>\n",
       "      <td>14.89</td>\n",
       "      <td>0.906400</td>\n",
       "      <td>5.363</td>\n",
       "      <td>3.582</td>\n",
       "      <td>3.336</td>\n",
       "      <td>5.144</td>\n",
       "      <td>2.0</td>\n",
       "      <td>2</td>\n",
       "    </tr>\n",
       "    <tr>\n",
       "      <th>2</th>\n",
       "      <td>18.95</td>\n",
       "      <td>16.42</td>\n",
       "      <td>0.882900</td>\n",
       "      <td>6.248</td>\n",
       "      <td>3.755</td>\n",
       "      <td>3.368</td>\n",
       "      <td>6.148</td>\n",
       "      <td>1.0</td>\n",
       "      <td>1</td>\n",
       "    </tr>\n",
       "    <tr>\n",
       "      <th>3</th>\n",
       "      <td>10.83</td>\n",
       "      <td>12.96</td>\n",
       "      <td>0.810588</td>\n",
       "      <td>5.278</td>\n",
       "      <td>2.641</td>\n",
       "      <td>5.182</td>\n",
       "      <td>5.185</td>\n",
       "      <td>2.0</td>\n",
       "      <td>0</td>\n",
       "    </tr>\n",
       "    <tr>\n",
       "      <th>4</th>\n",
       "      <td>17.99</td>\n",
       "      <td>15.86</td>\n",
       "      <td>0.899200</td>\n",
       "      <td>5.890</td>\n",
       "      <td>3.694</td>\n",
       "      <td>2.068</td>\n",
       "      <td>5.837</td>\n",
       "      <td>1.0</td>\n",
       "      <td>1</td>\n",
       "    </tr>\n",
       "  </tbody>\n",
       "</table>\n",
       "</div>"
      ],
      "text/plain": [
       "   spending  advance_payments  probability_of_full_payment  current_balance  \\\n",
       "0     19.94             16.92                     0.875200            6.675   \n",
       "1     15.99             14.89                     0.906400            5.363   \n",
       "2     18.95             16.42                     0.882900            6.248   \n",
       "3     10.83             12.96                     0.810588            5.278   \n",
       "4     17.99             15.86                     0.899200            5.890   \n",
       "\n",
       "   credit_limit  min_payment_amt  max_spent_in_single_shopping  clusters  \\\n",
       "0         3.763            3.252                         6.550       1.0   \n",
       "1         3.582            3.336                         5.144       2.0   \n",
       "2         3.755            3.368                         6.148       1.0   \n",
       "3         2.641            5.182                         5.185       2.0   \n",
       "4         3.694            2.068                         5.837       1.0   \n",
       "\n",
       "   Clus_kmeans  \n",
       "0            1  \n",
       "1            2  \n",
       "2            1  \n",
       "3            0  \n",
       "4            1  "
      ]
     },
     "execution_count": 413,
     "metadata": {},
     "output_type": "execute_result"
    }
   ],
   "source": [
    "bank_data[\"Clus_kmeans\"] = labels\n",
    "bank_data.head(5)"
   ]
  },
  {
   "cell_type": "code",
   "execution_count": 414,
   "metadata": {},
   "outputs": [],
   "source": [
    "from sklearn.metrics import silhouette_samples, silhouette_score"
   ]
  },
  {
   "cell_type": "code",
   "execution_count": 415,
   "metadata": {},
   "outputs": [
    {
     "data": {
      "text/plain": [
       "0.4007270552751299"
      ]
     },
     "execution_count": 415,
     "metadata": {},
     "output_type": "execute_result"
    }
   ],
   "source": [
    "silhouette_score(scaled_df,labels)"
   ]
  },
  {
   "cell_type": "code",
   "execution_count": 416,
   "metadata": {},
   "outputs": [],
   "source": [
    "sil_width = silhouette_samples(scaled_df,labels)"
   ]
  },
  {
   "cell_type": "code",
   "execution_count": 417,
   "metadata": {},
   "outputs": [
    {
     "data": {
      "text/html": [
       "<div>\n",
       "<style scoped>\n",
       "    .dataframe tbody tr th:only-of-type {\n",
       "        vertical-align: middle;\n",
       "    }\n",
       "\n",
       "    .dataframe tbody tr th {\n",
       "        vertical-align: top;\n",
       "    }\n",
       "\n",
       "    .dataframe thead th {\n",
       "        text-align: right;\n",
       "    }\n",
       "</style>\n",
       "<table border=\"1\" class=\"dataframe\">\n",
       "  <thead>\n",
       "    <tr style=\"text-align: right;\">\n",
       "      <th></th>\n",
       "      <th>spending</th>\n",
       "      <th>advance_payments</th>\n",
       "      <th>probability_of_full_payment</th>\n",
       "      <th>current_balance</th>\n",
       "      <th>credit_limit</th>\n",
       "      <th>min_payment_amt</th>\n",
       "      <th>max_spent_in_single_shopping</th>\n",
       "      <th>clusters</th>\n",
       "      <th>Clus_kmeans</th>\n",
       "      <th>sil_width</th>\n",
       "    </tr>\n",
       "  </thead>\n",
       "  <tbody>\n",
       "    <tr>\n",
       "      <th>0</th>\n",
       "      <td>19.94</td>\n",
       "      <td>16.92</td>\n",
       "      <td>0.875200</td>\n",
       "      <td>6.675</td>\n",
       "      <td>3.763</td>\n",
       "      <td>3.252</td>\n",
       "      <td>6.550</td>\n",
       "      <td>1.0</td>\n",
       "      <td>1</td>\n",
       "      <td>0.573699</td>\n",
       "    </tr>\n",
       "    <tr>\n",
       "      <th>1</th>\n",
       "      <td>15.99</td>\n",
       "      <td>14.89</td>\n",
       "      <td>0.906400</td>\n",
       "      <td>5.363</td>\n",
       "      <td>3.582</td>\n",
       "      <td>3.336</td>\n",
       "      <td>5.144</td>\n",
       "      <td>2.0</td>\n",
       "      <td>2</td>\n",
       "      <td>0.366386</td>\n",
       "    </tr>\n",
       "    <tr>\n",
       "      <th>2</th>\n",
       "      <td>18.95</td>\n",
       "      <td>16.42</td>\n",
       "      <td>0.882900</td>\n",
       "      <td>6.248</td>\n",
       "      <td>3.755</td>\n",
       "      <td>3.368</td>\n",
       "      <td>6.148</td>\n",
       "      <td>1.0</td>\n",
       "      <td>1</td>\n",
       "      <td>0.637784</td>\n",
       "    </tr>\n",
       "    <tr>\n",
       "      <th>3</th>\n",
       "      <td>10.83</td>\n",
       "      <td>12.96</td>\n",
       "      <td>0.810588</td>\n",
       "      <td>5.278</td>\n",
       "      <td>2.641</td>\n",
       "      <td>5.182</td>\n",
       "      <td>5.185</td>\n",
       "      <td>2.0</td>\n",
       "      <td>0</td>\n",
       "      <td>0.512458</td>\n",
       "    </tr>\n",
       "    <tr>\n",
       "      <th>4</th>\n",
       "      <td>17.99</td>\n",
       "      <td>15.86</td>\n",
       "      <td>0.899200</td>\n",
       "      <td>5.890</td>\n",
       "      <td>3.694</td>\n",
       "      <td>2.068</td>\n",
       "      <td>5.837</td>\n",
       "      <td>1.0</td>\n",
       "      <td>1</td>\n",
       "      <td>0.362276</td>\n",
       "    </tr>\n",
       "  </tbody>\n",
       "</table>\n",
       "</div>"
      ],
      "text/plain": [
       "   spending  advance_payments  probability_of_full_payment  current_balance  \\\n",
       "0     19.94             16.92                     0.875200            6.675   \n",
       "1     15.99             14.89                     0.906400            5.363   \n",
       "2     18.95             16.42                     0.882900            6.248   \n",
       "3     10.83             12.96                     0.810588            5.278   \n",
       "4     17.99             15.86                     0.899200            5.890   \n",
       "\n",
       "   credit_limit  min_payment_amt  max_spent_in_single_shopping  clusters  \\\n",
       "0         3.763            3.252                         6.550       1.0   \n",
       "1         3.582            3.336                         5.144       2.0   \n",
       "2         3.755            3.368                         6.148       1.0   \n",
       "3         2.641            5.182                         5.185       2.0   \n",
       "4         3.694            2.068                         5.837       1.0   \n",
       "\n",
       "   Clus_kmeans  sil_width  \n",
       "0            1   0.573699  \n",
       "1            2   0.366386  \n",
       "2            1   0.637784  \n",
       "3            0   0.512458  \n",
       "4            1   0.362276  "
      ]
     },
     "execution_count": 417,
     "metadata": {},
     "output_type": "execute_result"
    }
   ],
   "source": [
    "bank_data[\"sil_width\"] = sil_width\n",
    "bank_data.head(5)"
   ]
  },
  {
   "cell_type": "code",
   "execution_count": 418,
   "metadata": {},
   "outputs": [
    {
     "data": {
      "text/plain": [
       "0.002713089347678533"
      ]
     },
     "execution_count": 418,
     "metadata": {},
     "output_type": "execute_result"
    }
   ],
   "source": [
    "silhouette_samples(scaled_df,labels).min()"
   ]
  },
  {
   "cell_type": "markdown",
   "metadata": {},
   "source": [
    "# Cluster Profiling"
   ]
  },
  {
   "cell_type": "code",
   "execution_count": 420,
   "metadata": {},
   "outputs": [
    {
     "data": {
      "text/plain": [
       "0    72\n",
       "1    67\n",
       "2    71\n",
       "Name: Clus_kmeans, dtype: int64"
      ]
     },
     "execution_count": 420,
     "metadata": {},
     "output_type": "execute_result"
    }
   ],
   "source": [
    "bank_data.Clus_kmeans.value_counts().sort_index()"
   ]
  },
  {
   "cell_type": "code",
   "execution_count": 422,
   "metadata": {},
   "outputs": [
    {
     "data": {
      "text/html": [
       "<div>\n",
       "<style scoped>\n",
       "    .dataframe tbody tr th:only-of-type {\n",
       "        vertical-align: middle;\n",
       "    }\n",
       "\n",
       "    .dataframe tbody tr th {\n",
       "        vertical-align: top;\n",
       "    }\n",
       "\n",
       "    .dataframe thead th {\n",
       "        text-align: right;\n",
       "    }\n",
       "</style>\n",
       "<table border=\"1\" class=\"dataframe\">\n",
       "  <thead>\n",
       "    <tr style=\"text-align: right;\">\n",
       "      <th></th>\n",
       "      <th>spending</th>\n",
       "      <th>advance_payments</th>\n",
       "      <th>probability_of_full_payment</th>\n",
       "      <th>current_balance</th>\n",
       "      <th>credit_limit</th>\n",
       "      <th>min_payment_amt</th>\n",
       "      <th>max_spent_in_single_shopping</th>\n",
       "      <th>sil_width</th>\n",
       "      <th>Freq</th>\n",
       "    </tr>\n",
       "    <tr>\n",
       "      <th>Clus_kmeans</th>\n",
       "      <th></th>\n",
       "      <th></th>\n",
       "      <th></th>\n",
       "      <th></th>\n",
       "      <th></th>\n",
       "      <th></th>\n",
       "      <th></th>\n",
       "      <th></th>\n",
       "      <th></th>\n",
       "    </tr>\n",
       "  </thead>\n",
       "  <tbody>\n",
       "    <tr>\n",
       "      <th>0</th>\n",
       "      <td>11.856944</td>\n",
       "      <td>13.247778</td>\n",
       "      <td>0.848330</td>\n",
       "      <td>5.231750</td>\n",
       "      <td>2.849542</td>\n",
       "      <td>4.733892</td>\n",
       "      <td>5.101722</td>\n",
       "      <td>0.397473</td>\n",
       "      <td>72</td>\n",
       "    </tr>\n",
       "    <tr>\n",
       "      <th>1</th>\n",
       "      <td>18.495373</td>\n",
       "      <td>16.203433</td>\n",
       "      <td>0.884210</td>\n",
       "      <td>6.175687</td>\n",
       "      <td>3.697537</td>\n",
       "      <td>3.632373</td>\n",
       "      <td>6.041701</td>\n",
       "      <td>0.468772</td>\n",
       "      <td>67</td>\n",
       "    </tr>\n",
       "    <tr>\n",
       "      <th>2</th>\n",
       "      <td>14.437887</td>\n",
       "      <td>14.337746</td>\n",
       "      <td>0.881597</td>\n",
       "      <td>5.514577</td>\n",
       "      <td>3.259225</td>\n",
       "      <td>2.707341</td>\n",
       "      <td>5.120803</td>\n",
       "      <td>0.339816</td>\n",
       "      <td>71</td>\n",
       "    </tr>\n",
       "  </tbody>\n",
       "</table>\n",
       "</div>"
      ],
      "text/plain": [
       "              spending  advance_payments  probability_of_full_payment  \\\n",
       "Clus_kmeans                                                             \n",
       "0            11.856944         13.247778                     0.848330   \n",
       "1            18.495373         16.203433                     0.884210   \n",
       "2            14.437887         14.337746                     0.881597   \n",
       "\n",
       "             current_balance  credit_limit  min_payment_amt  \\\n",
       "Clus_kmeans                                                   \n",
       "0                   5.231750      2.849542         4.733892   \n",
       "1                   6.175687      3.697537         3.632373   \n",
       "2                   5.514577      3.259225         2.707341   \n",
       "\n",
       "             max_spent_in_single_shopping  sil_width  Freq  \n",
       "Clus_kmeans                                                 \n",
       "0                                5.101722   0.397473    72  \n",
       "1                                6.041701   0.468772    67  \n",
       "2                                5.120803   0.339816    71  "
      ]
     },
     "execution_count": 422,
     "metadata": {},
     "output_type": "execute_result"
    }
   ],
   "source": [
    "clust_profile=bank_data.drop(['clusters'], axis=1)\n",
    "clust_profile=clust_profile.groupby('Clus_kmeans').mean()\n",
    "clust_profile['Freq']=bank_data.Clus_kmeans.value_counts().sort_index()\n",
    "clust_profile'tr;t"
   ]
  },
  {
   "cell_type": "code",
   "execution_count": 423,
   "metadata": {},
   "outputs": [
    {
     "data": {
      "text/plain": [
       "Index(['spending', 'advance_payments', 'probability_of_full_payment',\n",
       "       'current_balance', 'credit_limit', 'min_payment_amt',\n",
       "       'max_spent_in_single_shopping', 'clusters', 'Clus_kmeans', 'sil_width'],\n",
       "      dtype='object')"
      ]
     },
     "execution_count": 423,
     "metadata": {},
     "output_type": "execute_result"
    }
   ],
   "source": [
    "bank_data.columns"
   ]
  },
  {
   "cell_type": "code",
   "execution_count": 424,
   "metadata": {},
   "outputs": [
    {
     "data": {
      "text/plain": [
       "array([[ 1.75435461,  1.81196782,  0.17822987, ...,  1.33857863,\n",
       "        -0.29880602,  2.3289982 ],\n",
       "       [ 0.39358228,  0.25383997,  1.501773  , ...,  0.85823561,\n",
       "        -0.24280501, -0.53858174],\n",
       "       [ 1.41330028,  1.42819249,  0.50487353, ...,  1.317348  ,\n",
       "        -0.22147129,  1.50910692],\n",
       "       ...,\n",
       "       [-0.2816364 , -0.30647202,  0.36488339, ..., -0.15287318,\n",
       "        -1.3221578 , -0.83023461],\n",
       "       [ 0.43836719,  0.33827054,  1.23027698, ...,  0.60081421,\n",
       "        -0.95348449,  0.07123789],\n",
       "       [ 0.24889256,  0.45340314, -0.77624835, ..., -0.07325831,\n",
       "        -0.70681338,  0.96047321]])"
      ]
     },
     "execution_count": 424,
     "metadata": {},
     "output_type": "execute_result"
    }
   ],
   "source": [
    "scaled_df"
   ]
  },
  {
   "cell_type": "code",
   "execution_count": 425,
   "metadata": {},
   "outputs": [],
   "source": [
    "scaled_df_new = pd.DataFrame(scaled_df,columns = ['spending', 'advance_payments', 'probability_of_full_payment', 'current_balance',\n",
    "       'credit_limit','min_payment_amt','max_spent_in_single_shopping'])"
   ]
  },
  {
   "cell_type": "code",
   "execution_count": 426,
   "metadata": {},
   "outputs": [
    {
     "data": {
      "text/html": [
       "<div>\n",
       "<style scoped>\n",
       "    .dataframe tbody tr th:only-of-type {\n",
       "        vertical-align: middle;\n",
       "    }\n",
       "\n",
       "    .dataframe tbody tr th {\n",
       "        vertical-align: top;\n",
       "    }\n",
       "\n",
       "    .dataframe thead th {\n",
       "        text-align: right;\n",
       "    }\n",
       "</style>\n",
       "<table border=\"1\" class=\"dataframe\">\n",
       "  <thead>\n",
       "    <tr style=\"text-align: right;\">\n",
       "      <th></th>\n",
       "      <th>spending</th>\n",
       "      <th>advance_payments</th>\n",
       "      <th>probability_of_full_payment</th>\n",
       "      <th>current_balance</th>\n",
       "      <th>credit_limit</th>\n",
       "      <th>min_payment_amt</th>\n",
       "      <th>max_spent_in_single_shopping</th>\n",
       "    </tr>\n",
       "  </thead>\n",
       "  <tbody>\n",
       "    <tr>\n",
       "      <th>0</th>\n",
       "      <td>1.754355</td>\n",
       "      <td>1.811968</td>\n",
       "      <td>0.178230</td>\n",
       "      <td>2.367533</td>\n",
       "      <td>1.338579</td>\n",
       "      <td>-0.298806</td>\n",
       "      <td>2.328998</td>\n",
       "    </tr>\n",
       "    <tr>\n",
       "      <th>1</th>\n",
       "      <td>0.393582</td>\n",
       "      <td>0.253840</td>\n",
       "      <td>1.501773</td>\n",
       "      <td>-0.600744</td>\n",
       "      <td>0.858236</td>\n",
       "      <td>-0.242805</td>\n",
       "      <td>-0.538582</td>\n",
       "    </tr>\n",
       "    <tr>\n",
       "      <th>2</th>\n",
       "      <td>1.413300</td>\n",
       "      <td>1.428192</td>\n",
       "      <td>0.504874</td>\n",
       "      <td>1.401485</td>\n",
       "      <td>1.317348</td>\n",
       "      <td>-0.221471</td>\n",
       "      <td>1.509107</td>\n",
       "    </tr>\n",
       "    <tr>\n",
       "      <th>3</th>\n",
       "      <td>-1.384034</td>\n",
       "      <td>-1.227533</td>\n",
       "      <td>-2.591878</td>\n",
       "      <td>-0.793049</td>\n",
       "      <td>-1.639017</td>\n",
       "      <td>0.987884</td>\n",
       "      <td>-0.454961</td>\n",
       "    </tr>\n",
       "    <tr>\n",
       "      <th>4</th>\n",
       "      <td>1.082581</td>\n",
       "      <td>0.998364</td>\n",
       "      <td>1.196340</td>\n",
       "      <td>0.591544</td>\n",
       "      <td>1.155464</td>\n",
       "      <td>-1.088154</td>\n",
       "      <td>0.874813</td>\n",
       "    </tr>\n",
       "    <tr>\n",
       "      <th>...</th>\n",
       "      <td>...</td>\n",
       "      <td>...</td>\n",
       "      <td>...</td>\n",
       "      <td>...</td>\n",
       "      <td>...</td>\n",
       "      <td>...</td>\n",
       "      <td>...</td>\n",
       "    </tr>\n",
       "    <tr>\n",
       "      <th>205</th>\n",
       "      <td>-0.329866</td>\n",
       "      <td>-0.413929</td>\n",
       "      <td>0.721222</td>\n",
       "      <td>-0.428801</td>\n",
       "      <td>-0.158181</td>\n",
       "      <td>0.190536</td>\n",
       "      <td>-1.366631</td>\n",
       "    </tr>\n",
       "    <tr>\n",
       "      <th>206</th>\n",
       "      <td>0.662292</td>\n",
       "      <td>0.814152</td>\n",
       "      <td>-0.305372</td>\n",
       "      <td>0.675253</td>\n",
       "      <td>0.476084</td>\n",
       "      <td>0.813214</td>\n",
       "      <td>0.789153</td>\n",
       "    </tr>\n",
       "    <tr>\n",
       "      <th>207</th>\n",
       "      <td>-0.281636</td>\n",
       "      <td>-0.306472</td>\n",
       "      <td>0.364883</td>\n",
       "      <td>-0.431064</td>\n",
       "      <td>-0.152873</td>\n",
       "      <td>-1.322158</td>\n",
       "      <td>-0.830235</td>\n",
       "    </tr>\n",
       "    <tr>\n",
       "      <th>208</th>\n",
       "      <td>0.438367</td>\n",
       "      <td>0.338271</td>\n",
       "      <td>1.230277</td>\n",
       "      <td>0.182048</td>\n",
       "      <td>0.600814</td>\n",
       "      <td>-0.953484</td>\n",
       "      <td>0.071238</td>\n",
       "    </tr>\n",
       "    <tr>\n",
       "      <th>209</th>\n",
       "      <td>0.248893</td>\n",
       "      <td>0.453403</td>\n",
       "      <td>-0.776248</td>\n",
       "      <td>0.659416</td>\n",
       "      <td>-0.073258</td>\n",
       "      <td>-0.706813</td>\n",
       "      <td>0.960473</td>\n",
       "    </tr>\n",
       "  </tbody>\n",
       "</table>\n",
       "<p>210 rows × 7 columns</p>\n",
       "</div>"
      ],
      "text/plain": [
       "     spending  advance_payments  probability_of_full_payment  current_balance  \\\n",
       "0    1.754355          1.811968                     0.178230         2.367533   \n",
       "1    0.393582          0.253840                     1.501773        -0.600744   \n",
       "2    1.413300          1.428192                     0.504874         1.401485   \n",
       "3   -1.384034         -1.227533                    -2.591878        -0.793049   \n",
       "4    1.082581          0.998364                     1.196340         0.591544   \n",
       "..        ...               ...                          ...              ...   \n",
       "205 -0.329866         -0.413929                     0.721222        -0.428801   \n",
       "206  0.662292          0.814152                    -0.305372         0.675253   \n",
       "207 -0.281636         -0.306472                     0.364883        -0.431064   \n",
       "208  0.438367          0.338271                     1.230277         0.182048   \n",
       "209  0.248893          0.453403                    -0.776248         0.659416   \n",
       "\n",
       "     credit_limit  min_payment_amt  max_spent_in_single_shopping  \n",
       "0        1.338579        -0.298806                      2.328998  \n",
       "1        0.858236        -0.242805                     -0.538582  \n",
       "2        1.317348        -0.221471                      1.509107  \n",
       "3       -1.639017         0.987884                     -0.454961  \n",
       "4        1.155464        -1.088154                      0.874813  \n",
       "..            ...              ...                           ...  \n",
       "205     -0.158181         0.190536                     -1.366631  \n",
       "206      0.476084         0.813214                      0.789153  \n",
       "207     -0.152873        -1.322158                     -0.830235  \n",
       "208      0.600814        -0.953484                      0.071238  \n",
       "209     -0.073258        -0.706813                      0.960473  \n",
       "\n",
       "[210 rows x 7 columns]"
      ]
     },
     "execution_count": 426,
     "metadata": {},
     "output_type": "execute_result"
    }
   ],
   "source": [
    "scaled_df_new"
   ]
  },
  {
   "cell_type": "code",
   "execution_count": 429,
   "metadata": {},
   "outputs": [
    {
     "data": {
      "text/plain": [
       "array([[-1.03025257, -1.00664879, -0.9649051 , -0.89768501, -1.08558344,\n",
       "         0.69480448, -0.62480856],\n",
       "       [ 1.25668163,  1.26196622,  0.56046437,  1.23788278,  1.16485187,\n",
       "        -0.04521936,  1.29230787],\n",
       "       [-0.14111949, -0.17004259,  0.4496064 , -0.25781445,  0.00164694,\n",
       "        -0.66191867, -0.58589311]])"
      ]
     },
     "execution_count": 429,
     "metadata": {},
     "output_type": "execute_result"
    }
   ],
   "source": [
    "# Centerioid for each and every cluster;\n",
    "k_means.cluster_centers_"
   ]
  },
  {
   "cell_type": "code",
   "execution_count": null,
   "metadata": {},
   "outputs": [],
   "source": []
  },
  {
   "cell_type": "code",
   "execution_count": null,
   "metadata": {},
   "outputs": [],
   "source": []
  }
 ],
 "metadata": {
  "kernelspec": {
   "display_name": "Python 3",
   "language": "python",
   "name": "python3"
  },
  "language_info": {
   "codemirror_mode": {
    "name": "ipython",
    "version": 3
   },
   "file_extension": ".py",
   "mimetype": "text/x-python",
   "name": "python",
   "nbconvert_exporter": "python",
   "pygments_lexer": "ipython3",
   "version": "3.8.3"
  }
 },
 "nbformat": 4,
 "nbformat_minor": 4
}
